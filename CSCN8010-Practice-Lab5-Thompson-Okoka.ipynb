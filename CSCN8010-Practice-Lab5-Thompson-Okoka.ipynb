{
 "cells": [
  {
   "cell_type": "markdown",
   "metadata": {},
   "source": [
    "# CSCN8010 Lab5 Practice"
   ]
  },
  {
   "cell_type": "markdown",
   "metadata": {},
   "source": [
    "# Report Goal\n",
    "### The goal of this report is to build a model that can best predict the risk of diabetes progression, ***given the body mass index  (BMI) feature in the dataset***. This will be used as a screening tool to help physicians with identifying patients at risk."
   ]
  },
  {
   "cell_type": "code",
   "execution_count": 28,
   "metadata": {},
   "outputs": [],
   "source": [
    "import seaborn as sns\n",
    "\n",
    "from sklearn import linear_model\n",
    "from sklearn.metrics import mean_squared_error, mean_absolute_error\n",
    "from sklearn.preprocessing import PolynomialFeatures\n",
    "from sklearn.linear_model import LinearRegression\n",
    "from sklearn.metrics import mean_squared_error\n",
    "import numpy as np\n",
    "from sklearn.model_selection import cross_validate\n",
    "from sklearn.pipeline import make_pipeline\n",
    "from sklearn.metrics import mean_squared_error, r2_score"
   ]
  },
  {
   "cell_type": "markdown",
   "metadata": {},
   "source": [
    "# Getting the data\n",
    "In this report, we will use a data from Scikit-learn that shows **ten baseline variables**, age, sex, body mass index, average blood pressure, and **six blood serum measurements** were obtained for each of n = 442 diabetes patients, as well as the response of interest, a quantitative measure of disease progression one year after baseline.\n",
    "\n",
    "\n",
    "\n",
    "The source of this data is [Link to the data source](https://scikit-learn.org/stable/datasets/toy_dataset.html#diabetes-dataset)"
   ]
  },
  {
   "cell_type": "code",
   "execution_count": 4,
   "metadata": {},
   "outputs": [],
   "source": [
    "from sklearn import datasets"
   ]
  },
  {
   "cell_type": "markdown",
   "metadata": {},
   "source": [
    "# Exploratory Data Analysis\n",
    "## Exploring and Describing the data\n",
    "### In this section, we are going to be looking at some info of our data."
   ]
  },
  {
   "cell_type": "code",
   "execution_count": 5,
   "metadata": {},
   "outputs": [
    {
     "name": "stdout",
     "output_type": "stream",
     "text": [
      "dict_keys(['data', 'target', 'frame', 'DESCR', 'feature_names', 'data_filename', 'target_filename', 'data_module'])\n",
      "['age', 'sex', 'bmi', 'bp', 's1', 's2', 's3', 's4', 's5', 's6']\n",
      ".. _diabetes_dataset:\n",
      "\n",
      "Diabetes dataset\n",
      "----------------\n",
      "\n",
      "Ten baseline variables, age, sex, body mass index, average blood\n",
      "pressure, and six blood serum measurements were obtained for each of n =\n",
      "442 diabetes patients, as well as the response of interest, a\n",
      "quantitative measure of disease progression one year after baseline.\n",
      "\n",
      "**Data Set Characteristics:**\n",
      "\n",
      "  :Number of Instances: 442\n",
      "\n",
      "  :Number of Attributes: First 10 columns are numeric predictive values\n",
      "\n",
      "  :Target: Column 11 is a quantitative measure of disease progression one year after baseline\n",
      "\n",
      "  :Attribute Information:\n",
      "      - age     age in years\n",
      "      - sex\n",
      "      - bmi     body mass index\n",
      "      - bp      average blood pressure\n",
      "      - s1      tc, total serum cholesterol\n",
      "      - s2      ldl, low-density lipoproteins\n",
      "      - s3      hdl, high-density lipoproteins\n",
      "      - s4      tch, total cholesterol / HDL\n",
      "      - s5      ltg, possibly log of serum triglycerides level\n",
      "      - s6      glu, blood sugar level\n",
      "\n",
      "Note: Each of these 10 feature variables have been mean centered and scaled by the standard deviation times the square root of `n_samples` (i.e. the sum of squares of each column totals 1).\n",
      "\n",
      "Source URL:\n",
      "https://www4.stat.ncsu.edu/~boos/var.select/diabetes.html\n",
      "\n",
      "For more information see:\n",
      "Bradley Efron, Trevor Hastie, Iain Johnstone and Robert Tibshirani (2004) \"Least Angle Regression,\" Annals of Statistics (with discussion), 407-499.\n",
      "(https://web.stanford.edu/~hastie/Papers/LARS/LeastAngle_2002.pdf)\n",
      "\n"
     ]
    }
   ],
   "source": [
    "from sklearn import datasets\n",
    "\n",
    "# Load the diabetes dataset\n",
    "diabetes = datasets.load_diabetes()\n",
    "\n",
    "# Check the keys of the dataset\n",
    "print(diabetes.keys())\n",
    "\n",
    "# Check the feature names\n",
    "print(diabetes.feature_names)\n",
    "\n",
    "# Check the description of the dataset\n",
    "print(diabetes.DESCR)"
   ]
  },
  {
   "cell_type": "code",
   "execution_count": 7,
   "metadata": {},
   "outputs": [
    {
     "name": "stdout",
     "output_type": "stream",
     "text": [
      "                age           sex           bmi            bp            s1   \n",
      "count  4.420000e+02  4.420000e+02  4.420000e+02  4.420000e+02  4.420000e+02  \\\n",
      "mean  -2.511817e-19  1.230790e-17 -2.245564e-16 -4.797570e-17 -1.381499e-17   \n",
      "std    4.761905e-02  4.761905e-02  4.761905e-02  4.761905e-02  4.761905e-02   \n",
      "min   -1.072256e-01 -4.464164e-02 -9.027530e-02 -1.123988e-01 -1.267807e-01   \n",
      "25%   -3.729927e-02 -4.464164e-02 -3.422907e-02 -3.665608e-02 -3.424784e-02   \n",
      "50%    5.383060e-03 -4.464164e-02 -7.283766e-03 -5.670422e-03 -4.320866e-03   \n",
      "75%    3.807591e-02  5.068012e-02  3.124802e-02  3.564379e-02  2.835801e-02   \n",
      "max    1.107267e-01  5.068012e-02  1.705552e-01  1.320436e-01  1.539137e-01   \n",
      "\n",
      "                 s2            s3            s4            s5            s6  \n",
      "count  4.420000e+02  4.420000e+02  4.420000e+02  4.420000e+02  4.420000e+02  \n",
      "mean   3.918434e-17 -5.777179e-18 -9.042540e-18  9.293722e-17  1.130318e-17  \n",
      "std    4.761905e-02  4.761905e-02  4.761905e-02  4.761905e-02  4.761905e-02  \n",
      "min   -1.156131e-01 -1.023071e-01 -7.639450e-02 -1.260971e-01 -1.377672e-01  \n",
      "25%   -3.035840e-02 -3.511716e-02 -3.949338e-02 -3.324559e-02 -3.317903e-02  \n",
      "50%   -3.819065e-03 -6.584468e-03 -2.592262e-03 -1.947171e-03 -1.077698e-03  \n",
      "75%    2.984439e-02  2.931150e-02  3.430886e-02  3.243232e-02  2.791705e-02  \n",
      "max    1.987880e-01  1.811791e-01  1.852344e-01  1.335973e-01  1.356118e-01  \n"
     ]
    }
   ],
   "source": [
    "import pandas as pd\n",
    "\n",
    "# Convert the data to a pandas DataFrame\n",
    "df = pd.DataFrame(diabetes.data, columns=diabetes.feature_names)\n",
    "\n",
    "# Display statistical summary\n",
    "print(df.describe())"
   ]
  },
  {
   "cell_type": "markdown",
   "metadata": {},
   "source": [
    "# Set a test-set aside\n",
    "### Split the data into X and Y (features and target variable)"
   ]
  },
  {
   "cell_type": "code",
   "execution_count": 9,
   "metadata": {},
   "outputs": [],
   "source": [
    "from sklearn.model_selection import train_test_split\n",
    "\n",
    "# Load the diabetes dataset\n",
    "diabetes = datasets.load_diabetes()\n",
    "\n",
    "# Split the data into features (X) and target variable (y)\n",
    "X = diabetes.data\n",
    "y = diabetes.target\n",
    "\n",
    "# Split the data into training and testing sets\n",
    "X_train, X_test, y_train, y_test = train_test_split(X, y, test_size=0.2, random_state=42)"
   ]
  },
  {
   "cell_type": "markdown",
   "metadata": {},
   "source": [
    "# Perform cross-validation. \n",
    "Consider using the cross_validate function as it provides a list of scoring functions as an input.\n",
    "***At least two polynomial models (degrees >=0, of your choice)***"
   ]
  },
  {
   "cell_type": "code",
   "execution_count": 13,
   "metadata": {},
   "outputs": [
    {
     "name": "stdout",
     "output_type": "stream",
     "text": [
      "Results for polynomial degree 2:\n",
      "Mean squared error: 3495.2630742643087\n",
      "R-squared: 0.39150242015039866\n",
      "\n",
      "Results for polynomial degree 3:\n",
      "Mean squared error: 1028880.5039592178\n",
      "R-squared: -182.48919443245896\n",
      "\n"
     ]
    }
   ],
   "source": [
    "# Extract features and target\n",
    "X = diabetes.data\n",
    "y = diabetes.target\n",
    "\n",
    "# Define polynomial degrees\n",
    "degrees = [2, 3]\n",
    "\n",
    "# Define scoring functions\n",
    "scoring = ['neg_mean_squared_error', 'r2']\n",
    "\n",
    "for degree in degrees:\n",
    "    # Create a polynomial model pipeline\n",
    "    model = make_pipeline(PolynomialFeatures(degree), LinearRegression())\n",
    "\n",
    "    # Perform cross-validation\n",
    "    cv_results = cross_validate(model, X, y, cv=5, scoring=scoring)\n",
    "\n",
    "    # Extract and print results\n",
    "    print(f\"Results for polynomial degree {degree}:\")\n",
    "    print(\"Mean squared error:\", -np.mean(cv_results['test_neg_mean_squared_error']))\n",
    "    print(\"R-squared:\", np.mean(cv_results['test_r2']))\n",
    "    print()"
   ]
  },
  {
   "cell_type": "markdown",
   "metadata": {},
   "source": [
    "Consider using the cross_validate function as it provides a list of scoring functions as an input.\n",
    "***At least two decision trees (e.g. consider changing the `max_depth` hyperparameter)***"
   ]
  },
  {
   "cell_type": "code",
   "execution_count": 16,
   "metadata": {},
   "outputs": [
    {
     "name": "stdout",
     "output_type": "stream",
     "text": [
      "Results for max_depth = 3:\n",
      "Mean squared error: 3984.776499518853\n",
      "R-squared: 0.30903415697000264\n",
      "\n",
      "Results for max_depth = 5:\n",
      "Mean squared error: 4594.846048148582\n",
      "R-squared: 0.20619348372581503\n",
      "\n",
      "Results for max_depth = 7:\n",
      "Mean squared error: 5379.327996325899\n",
      "R-squared: 0.07211663491199545\n",
      "\n"
     ]
    }
   ],
   "source": [
    "from sklearn.tree import DecisionTreeRegressor\n",
    "\n",
    "# Define max depths for decision trees\n",
    "max_depths = [3, 5, 7]\n",
    "\n",
    "# Define scoring functions\n",
    "scoring = ['neg_mean_squared_error', 'r2']\n",
    "\n",
    "for depth in max_depths:\n",
    "    # Create a decision tree model\n",
    "    model = DecisionTreeRegressor(max_depth=depth, random_state=42)\n",
    "\n",
    "    # Perform cross-validation\n",
    "    cv_results = cross_validate(model, X, y, cv=5, scoring=scoring)\n",
    "\n",
    "    # Extract and print results\n",
    "    print(f\"Results for max_depth = {depth}:\")\n",
    "    print(\"Mean squared error:\", -np.mean(cv_results['test_neg_mean_squared_error']))\n",
    "    print(\"R-squared:\", np.mean(cv_results['test_r2']))\n",
    "    print()"
   ]
  },
  {
   "cell_type": "markdown",
   "metadata": {},
   "source": [
    "Consider using the cross_validate function as it provides a list of scoring functions as an input.\n",
    "***At least two kNNs***"
   ]
  },
  {
   "cell_type": "code",
   "execution_count": 17,
   "metadata": {},
   "outputs": [
    {
     "name": "stdout",
     "output_type": "stream",
     "text": [
      "Results for k = 3:\n",
      "Mean squared error: 4033.7310691181483\n",
      "R-squared: 0.3078350404880209\n",
      "\n",
      "Results for k = 5:\n",
      "Mean squared error: 3620.916153217569\n",
      "R-squared: 0.37650814581101094\n",
      "\n",
      "Results for k = 7:\n",
      "Mean squared error: 3501.6367206228765\n",
      "R-squared: 0.39743523684807025\n",
      "\n"
     ]
    }
   ],
   "source": [
    "from sklearn.neighbors import KNeighborsRegressor\n",
    "\n",
    "# Define values of k for kNN\n",
    "k_values = [3, 5, 7]\n",
    "\n",
    "# Define scoring functions\n",
    "scoring = ['neg_mean_squared_error', 'r2']\n",
    "\n",
    "for k in k_values:\n",
    "    # Create a kNN model\n",
    "    model = KNeighborsRegressor(n_neighbors=k)\n",
    "\n",
    "    # Perform cross-validation\n",
    "    cv_results = cross_validate(model, X, y, cv=5, scoring=scoring)\n",
    "\n",
    "    # Extract and print results\n",
    "    print(f\"Results for k = {k}:\")\n",
    "    print(\"Mean squared error:\", -np.mean(cv_results['test_neg_mean_squared_error']))\n",
    "    print(\"R-squared:\", np.mean(cv_results['test_r2']))\n",
    "    print()"
   ]
  },
  {
   "cell_type": "markdown",
   "metadata": {},
   "source": [
    "## Construct a table summarizing the cross-validation results\n",
    "### (calculated per model over all 5 folds):\n",
    "***R-Squared***"
   ]
  },
  {
   "cell_type": "code",
   "execution_count": 21,
   "metadata": {},
   "outputs": [
    {
     "name": "stdout",
     "output_type": "stream",
     "text": [
      "               Model  R-Squared Mean  R-Squared Std\n",
      "0  Linear Regression        0.482316       0.049269\n",
      "1      Decision Tree        0.309034       0.081524\n",
      "2          kNN (k=5)        0.376508       0.039840\n"
     ]
    }
   ],
   "source": [
    "from sklearn.model_selection import cross_val_score\n",
    "from sklearn.tree import DecisionTreeRegressor\n",
    "\n",
    "# Define models\n",
    "models = {\n",
    "    'Linear Regression': LinearRegression(),\n",
    "    'Decision Tree': DecisionTreeRegressor(max_depth=3),\n",
    "    'kNN (k=5)': KNeighborsRegressor(n_neighbors=5)\n",
    "}\n",
    "\n",
    "# Define the number of folds\n",
    "n_folds = 5\n",
    "\n",
    "# Initialize an empty list to store the results\n",
    "results = []\n",
    "\n",
    "# Perform cross-validation for each model\n",
    "for model_name, model in models.items():\n",
    "    # Compute cross-validation scores\n",
    "    cv_scores = cross_val_score(model, X, y, cv=n_folds, scoring='r2')\n",
    "    \n",
    "    # Calculate mean and standard deviation of R-Squared scores\n",
    "    r_squared_mean = cv_scores.mean()\n",
    "    r_squared_std = cv_scores.std()\n",
    "    \n",
    "    # Append results to the list\n",
    "    results.append({\n",
    "        'Model': model_name,\n",
    "        'R-Squared Mean': r_squared_mean,\n",
    "        'R-Squared Std': r_squared_std\n",
    "    })\n",
    "\n",
    "# Create DataFrame from the list of results\n",
    "results_df = pd.DataFrame(results)\n",
    "\n",
    "# Print the table\n",
    "print(results_df)"
   ]
  },
  {
   "cell_type": "markdown",
   "metadata": {},
   "source": [
    "### (calculated per model over all 5 folds):\n",
    "***Mean Absolute Error (MAE)***"
   ]
  },
  {
   "cell_type": "code",
   "execution_count": 22,
   "metadata": {},
   "outputs": [
    {
     "name": "stdout",
     "output_type": "stream",
     "text": [
      "               Model   MAE Mean   MAE Std\n",
      "0  Linear Regression  44.276499  2.100110\n",
      "1      Decision Tree  50.671123  1.499072\n",
      "2          kNN (k=5)  47.164443  2.306197\n"
     ]
    }
   ],
   "source": [
    "# Define models\n",
    "models = {\n",
    "    'Linear Regression': LinearRegression(),\n",
    "    'Decision Tree': DecisionTreeRegressor(max_depth=3),\n",
    "    'kNN (k=5)': KNeighborsRegressor(n_neighbors=5)\n",
    "}\n",
    "\n",
    "# Define the number of folds\n",
    "n_folds = 5\n",
    "\n",
    "# Initialize an empty list to store the results\n",
    "results = []\n",
    "\n",
    "# Perform cross-validation for each model\n",
    "for model_name, model in models.items():\n",
    "    # Compute cross-validation scores for MAE\n",
    "    mae_scores = -cross_val_score(model, X, y, cv=n_folds, scoring='neg_mean_absolute_error')\n",
    "    \n",
    "    # Calculate mean and standard deviation of MAE scores\n",
    "    mae_mean = mae_scores.mean()\n",
    "    mae_std = mae_scores.std()\n",
    "    \n",
    "    # Append results to the list\n",
    "    results.append({\n",
    "        'Model': model_name,\n",
    "        'MAE Mean': mae_mean,\n",
    "        'MAE Std': mae_std\n",
    "    })\n",
    "\n",
    "# Create DataFrame from the list of results\n",
    "results_df = pd.DataFrame(results)\n",
    "\n",
    "# Print the table\n",
    "print(results_df)"
   ]
  },
  {
   "cell_type": "markdown",
   "metadata": {},
   "source": [
    "### (calculated per model over all 5 folds):\n",
    "***MAPE***"
   ]
  },
  {
   "cell_type": "code",
   "execution_count": 24,
   "metadata": {},
   "outputs": [
    {
     "name": "stdout",
     "output_type": "stream",
     "text": [
      "               Model       MAPE\n",
      "0  Linear Regression  39.489325\n",
      "1      Decision Tree  43.698611\n",
      "2          kNN (k=5)  40.754619\n"
     ]
    }
   ],
   "source": [
    "from sklearn.model_selection import cross_val_predict\n",
    "# Define models\n",
    "models = {\n",
    "    'Linear Regression': LinearRegression(),\n",
    "    'Decision Tree': DecisionTreeRegressor(max_depth=3),\n",
    "    'kNN (k=5)': KNeighborsRegressor(n_neighbors=5)\n",
    "}\n",
    "\n",
    "# Define the number of folds\n",
    "n_folds = 5\n",
    "\n",
    "# Initialize an empty list to store the results\n",
    "results = []\n",
    "\n",
    "# Custom MAPE scoring function\n",
    "def mape(y_true, y_pred):\n",
    "    return np.mean(np.abs((y_true - y_pred) / y_true)) * 100\n",
    "\n",
    "# Perform cross-validation for each model\n",
    "for model_name, model in models.items():\n",
    "    # Perform cross-validation predictions\n",
    "    y_pred = cross_val_predict(model, X, y, cv=n_folds)\n",
    "    \n",
    "    # Calculate MAPE\n",
    "    mape_score = mape(y, y_pred)\n",
    "    \n",
    "    # Append results to the list\n",
    "    results.append({\n",
    "        'Model': model_name,\n",
    "        'MAPE': mape_score\n",
    "    })\n",
    "\n",
    "# Create DataFrame from the list of results\n",
    "results_df = pd.DataFrame(results)\n",
    "\n",
    "# Print the table\n",
    "print(results_df)"
   ]
  },
  {
   "cell_type": "markdown",
   "metadata": {},
   "source": [
    "# Identify the best model.\n",
    "***Run the model on the test set and provide results (R-Squared, MAPE, MAE)***"
   ]
  },
  {
   "cell_type": "code",
   "execution_count": 25,
   "metadata": {},
   "outputs": [
    {
     "name": "stdout",
     "output_type": "stream",
     "text": [
      "Evaluation results on the test set:\n",
      "R-Squared: 0.4526027629719197\n",
      "MAE: 42.79409467959994\n",
      "MAPE: 37.49982636756112\n"
     ]
    }
   ],
   "source": [
    "# Train the best model identified during cross-validation\n",
    "best_model = LinearRegression()\n",
    "\n",
    "# Fit the best model on the entire training set\n",
    "best_model.fit(X_train, y_train)\n",
    "\n",
    "# Evaluate the best model on the test set\n",
    "y_pred_test = best_model.predict(X_test)\n",
    "\n",
    "# Calculate R-Squared on the test set\n",
    "r_squared_test = r2_score(y_test, y_pred_test)\n",
    "\n",
    "# Calculate MAE on the test set\n",
    "mae_test = mean_absolute_error(y_test, y_pred_test)\n",
    "\n",
    "# Calculate MAPE on the test set\n",
    "mape_test = mape(y_test, y_pred_test)\n",
    "\n",
    "# Print the evaluation results\n",
    "print(\"Evaluation results on the test set:\")\n",
    "print(f\"R-Squared: {r_squared_test}\")\n",
    "print(f\"MAE: {mae_test}\")\n",
    "print(f\"MAPE: {mape_test}\")\n"
   ]
  },
  {
   "cell_type": "markdown",
   "metadata": {},
   "source": [
    "\n",
    "## Plot a graph with the datapoints (train+validation and test), and the fitted mod"
   ]
  },
  {
   "cell_type": "code",
   "execution_count": 27,
   "metadata": {},
   "outputs": [
    {
     "data": {
      "image/png": "[encoded data removed]",
      "text/plain": [
       "<Figure size 800x600 with 1 Axes>"
      ]
     },
     "metadata": {},
     "output_type": "display_data"
    }
   ],
   "source": [
    "# Split the data into train/validation and test sets\n",
    "X_train_val, X_test, y_train_val, y_test = train_test_split(X, y, test_size=0.2, random_state=42)\n",
    "\n",
    "# Train the model (assuming Linear Regression)\n",
    "model = LinearRegression()\n",
    "model.fit(X_train_val, y_train_val)\n",
    "\n",
    "# Predict on the test set\n",
    "y_pred_test = model.predict(X_test)\n",
    "\n",
    "# Plot the actual vs. predicted values\n",
    "plt.figure(figsize=(8, 6))\n",
    "plt.scatter(y_test, y_pred_test, color='blue', label='Test Data')\n",
    "plt.plot([min(y_test), max(y_test)], [min(y_test), max(y_test)], color='red', linestyle='--', lw=2, label='Fitted Line')\n",
    "plt.title('Actual vs. Predicted Values')\n",
    "plt.xlabel('Actual Values')\n",
    "plt.ylabel('Predicted Values')\n",
    "plt.legend()\n",
    "plt.grid(True)\n",
    "plt.show()"
   ]
  },
  {
   "cell_type": "markdown",
   "metadata": {},
   "source": [
    "# Conclusion\n",
    "***Brief:*** In order to predict the course of diabetes based on patient features, we investigated a number of machine learning models in this investigation, such as k-Nearest Neighbors Regression, Decision Tree Regression, and Linear Regression. We evaluated the performance of the models using cross-validation, and the top model was determined by looking at R-Squared scores.\n",
    "\n",
    "Cross-validation was used to assess the models, and the results showed that the ***Linear Regression model*** performed the best, having the greatest R-Squared score.\n",
    "\n",
    "***Limitations:*** The assumption of linearity between the featuress and the target variable is one notable limitation. Certain featuress may have non-linear relationships with diabetes progression that the linear model may not be able to adequately reflect.\n",
    "\n",
    "***In Conclusion*** Despite its limitations, the Linear Regression model serves as a valuable tool for initial predictions and understanding the general trends in diabetes progression."
   ]
  }
 ],
 "metadata": {
  "kernelspec": {
   "display_name": "CSCN8010_classic_ml",
   "language": "python",
   "name": "python3"
  },
  "language_info": {
   "codemirror_mode": {
    "name": "ipython",
    "version": 3
   },
   "file_extension": ".py",
   "mimetype": "text/x-python",
   "name": "python",
   "nbconvert_exporter": "python",
   "pygments_lexer": "ipython3",
   "version": "3.11.7"
  }
 },
 "nbformat": 4,
 "nbformat_minor": 2
}
